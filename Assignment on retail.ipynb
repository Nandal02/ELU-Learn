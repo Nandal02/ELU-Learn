{
 "cells": [
  {
   "cell_type": "code",
   "execution_count": 1,
   "metadata": {},
   "outputs": [],
   "source": [
    "import pandas as pd"
   ]
  },
  {
   "cell_type": "code",
   "execution_count": 2,
   "metadata": {},
   "outputs": [],
   "source": [
    "import numpy as np\n",
    "import matplotlib as plt\n",
    "import matplotlib.pyplot as plt\n",
    "import seaborn as sns\n",
    "%matplotlib inline\n",
    "import warnings\n",
    "warnings.filterwarnings(\"ignore\")"
   ]
  },
  {
   "cell_type": "code",
   "execution_count": 3,
   "metadata": {},
   "outputs": [],
   "source": [
    "data=pd.read_csv('BlackFriday.csv')"
   ]
  },
  {
   "cell_type": "code",
   "execution_count": 4,
   "metadata": {},
   "outputs": [],
   "source": [
    "def map_Age(Age):\n",
    "    if Age == '0-17':\n",
    "        return 0\n",
    "    elif Age == '18-25':\n",
    "        return 1\n",
    "    elif Age == '26-35':\n",
    "        return 2\n",
    "    elif Age == '36-45':\n",
    "        return 3\n",
    "    elif Age == '46-50':\n",
    "        return 4\n",
    "    elif Age == '51-55':\n",
    "        return 5\n",
    "    else:\n",
    "        return 6\n",
    "data['Age'] = data['Age'].apply(map_Age)\n",
    "        "
   ]
  },
  {
   "cell_type": "code",
   "execution_count": 5,
   "metadata": {},
   "outputs": [
    {
     "data": {
      "text/plain": [
       "0         False\n",
       "1         False\n",
       "2         False\n",
       "3         False\n",
       "4         False\n",
       "5         False\n",
       "6         False\n",
       "7         False\n",
       "8         False\n",
       "9         False\n",
       "10        False\n",
       "11        False\n",
       "12        False\n",
       "13        False\n",
       "14        False\n",
       "15        False\n",
       "16        False\n",
       "17        False\n",
       "18        False\n",
       "19        False\n",
       "20        False\n",
       "21        False\n",
       "22        False\n",
       "23        False\n",
       "24        False\n",
       "25        False\n",
       "26        False\n",
       "27        False\n",
       "28        False\n",
       "29        False\n",
       "          ...  \n",
       "537547    False\n",
       "537548    False\n",
       "537549    False\n",
       "537550    False\n",
       "537551    False\n",
       "537552    False\n",
       "537553    False\n",
       "537554    False\n",
       "537555    False\n",
       "537556    False\n",
       "537557    False\n",
       "537558    False\n",
       "537559    False\n",
       "537560    False\n",
       "537561    False\n",
       "537562    False\n",
       "537563    False\n",
       "537564    False\n",
       "537565    False\n",
       "537566    False\n",
       "537567    False\n",
       "537568    False\n",
       "537569    False\n",
       "537570    False\n",
       "537571    False\n",
       "537572    False\n",
       "537573    False\n",
       "537574    False\n",
       "537575    False\n",
       "537576    False\n",
       "Name: City_Category, Length: 537577, dtype: bool"
      ]
     },
     "execution_count": 5,
     "metadata": {},
     "output_type": "execute_result"
    }
   ],
   "source": [
    "def map_City_Category(City_Category):\n",
    "    if City_Category == 'A':\n",
    "        return 2\n",
    "    elif City_Category == 'B':\n",
    "        return 1\n",
    "    else:\n",
    "        return 0\n",
    "data['City_Category'] == data['City_Category'].apply(map_City_Category)"
   ]
  },
  {
   "cell_type": "code",
   "execution_count": 8,
   "metadata": {},
   "outputs": [],
   "source": [
    "def map_Stay(Stay):\n",
    "    if Stay == '4+':\n",
    "        return 4\n",
    "    else:\n",
    "        return int(Stay)\n",
    "data['Stay_In_Current_City_Years'] = data['Stay_In_Current_City_Years'].apply(map_City_Category)"
   ]
  },
  {
   "cell_type": "code",
   "execution_count": 9,
   "metadata": {},
   "outputs": [],
   "source": [
    "#def map_Gender(Gender):\n",
    "    #if Gender == 'M':\n",
    "      #  return 1\n",
    "    #else:\n",
    "        #return 0\n",
    "#data['Gender'] == data['Gender'].apply(map_Gender)"
   ]
  },
  {
   "cell_type": "code",
   "execution_count": 10,
   "metadata": {},
   "outputs": [],
   "source": [
    "cols = ['User_ID', 'Product_ID']\n",
    "data.drop(cols, inplace = True, axis=1)"
   ]
  },
  {
   "cell_type": "code",
   "execution_count": 11,
   "metadata": {},
   "outputs": [
    {
     "name": "stdout",
     "output_type": "stream",
     "text": [
      "Product_Category_3    69.441029\n",
      "Product_Category_2    31.062713\n",
      "dtype: float64\n"
     ]
    }
   ],
   "source": [
    "missing_values=data.isnull().sum().sort_values(ascending=False)\n",
    "missing_values=missing_values[missing_values>0]/data.shape[0]\n",
    "print(f'{missing_values*100}')"
   ]
  },
  {
   "cell_type": "code",
   "execution_count": 12,
   "metadata": {},
   "outputs": [],
   "source": [
    "data = data.fillna(0)"
   ]
  },
  {
   "cell_type": "code",
   "execution_count": 13,
   "metadata": {},
   "outputs": [
    {
     "data": {
      "text/html": [
       "<div>\n",
       "<style scoped>\n",
       "    .dataframe tbody tr th:only-of-type {\n",
       "        vertical-align: middle;\n",
       "    }\n",
       "\n",
       "    .dataframe tbody tr th {\n",
       "        vertical-align: top;\n",
       "    }\n",
       "\n",
       "    .dataframe thead th {\n",
       "        text-align: right;\n",
       "    }\n",
       "</style>\n",
       "<table border=\"1\" class=\"dataframe\">\n",
       "  <thead>\n",
       "    <tr style=\"text-align: right;\">\n",
       "      <th></th>\n",
       "      <th>Gender</th>\n",
       "      <th>Age</th>\n",
       "      <th>Occupation</th>\n",
       "      <th>City_Category</th>\n",
       "      <th>Stay_In_Current_City_Years</th>\n",
       "      <th>Marital_Status</th>\n",
       "      <th>Product_Category_1</th>\n",
       "      <th>Product_Category_2</th>\n",
       "      <th>Product_Category_3</th>\n",
       "      <th>Purchase</th>\n",
       "    </tr>\n",
       "  </thead>\n",
       "  <tbody>\n",
       "    <tr>\n",
       "      <th>0</th>\n",
       "      <td>F</td>\n",
       "      <td>0</td>\n",
       "      <td>10</td>\n",
       "      <td>A</td>\n",
       "      <td>0</td>\n",
       "      <td>0</td>\n",
       "      <td>3</td>\n",
       "      <td>0.0</td>\n",
       "      <td>0.0</td>\n",
       "      <td>8370</td>\n",
       "    </tr>\n",
       "    <tr>\n",
       "      <th>1</th>\n",
       "      <td>F</td>\n",
       "      <td>0</td>\n",
       "      <td>10</td>\n",
       "      <td>A</td>\n",
       "      <td>0</td>\n",
       "      <td>0</td>\n",
       "      <td>1</td>\n",
       "      <td>6.0</td>\n",
       "      <td>14.0</td>\n",
       "      <td>15200</td>\n",
       "    </tr>\n",
       "    <tr>\n",
       "      <th>2</th>\n",
       "      <td>F</td>\n",
       "      <td>0</td>\n",
       "      <td>10</td>\n",
       "      <td>A</td>\n",
       "      <td>0</td>\n",
       "      <td>0</td>\n",
       "      <td>12</td>\n",
       "      <td>0.0</td>\n",
       "      <td>0.0</td>\n",
       "      <td>1422</td>\n",
       "    </tr>\n",
       "    <tr>\n",
       "      <th>3</th>\n",
       "      <td>F</td>\n",
       "      <td>0</td>\n",
       "      <td>10</td>\n",
       "      <td>A</td>\n",
       "      <td>0</td>\n",
       "      <td>0</td>\n",
       "      <td>12</td>\n",
       "      <td>14.0</td>\n",
       "      <td>0.0</td>\n",
       "      <td>1057</td>\n",
       "    </tr>\n",
       "    <tr>\n",
       "      <th>4</th>\n",
       "      <td>M</td>\n",
       "      <td>6</td>\n",
       "      <td>16</td>\n",
       "      <td>C</td>\n",
       "      <td>0</td>\n",
       "      <td>0</td>\n",
       "      <td>8</td>\n",
       "      <td>0.0</td>\n",
       "      <td>0.0</td>\n",
       "      <td>7969</td>\n",
       "    </tr>\n",
       "  </tbody>\n",
       "</table>\n",
       "</div>"
      ],
      "text/plain": [
       "  Gender  Age  Occupation City_Category  Stay_In_Current_City_Years  \\\n",
       "0      F    0          10             A                           0   \n",
       "1      F    0          10             A                           0   \n",
       "2      F    0          10             A                           0   \n",
       "3      F    0          10             A                           0   \n",
       "4      M    6          16             C                           0   \n",
       "\n",
       "   Marital_Status  Product_Category_1  Product_Category_2  Product_Category_3  \\\n",
       "0               0                   3                 0.0                 0.0   \n",
       "1               0                   1                 6.0                14.0   \n",
       "2               0                  12                 0.0                 0.0   \n",
       "3               0                  12                14.0                 0.0   \n",
       "4               0                   8                 0.0                 0.0   \n",
       "\n",
       "   Purchase  \n",
       "0      8370  \n",
       "1     15200  \n",
       "2      1422  \n",
       "3      1057  \n",
       "4      7969  "
      ]
     },
     "execution_count": 13,
     "metadata": {},
     "output_type": "execute_result"
    }
   ],
   "source": [
    "data.head()"
   ]
  },
  {
   "cell_type": "code",
   "execution_count": 14,
   "metadata": {},
   "outputs": [
    {
     "data": {
      "image/png": "[encoded data removed]",
      "text/plain": [
       "<Figure size 432x288 with 1 Axes>"
      ]
     },
     "metadata": {
      "needs_background": "light"
     },
     "output_type": "display_data"
    }
   ],
   "source": [
    "data[['Age', 'Purchase']].groupby('Age').mean().plot.bar()\n",
    "sns.barplot('Age', 'Purchase', data=data)\n",
    "plt.show()\n",
    "# under 17 years spent least on purchase as compared to 51-55years of age group which is highest among of all age group \n",
    "# where as 36-45 age group has almost equal distributionas as above 55."
   ]
  },
  {
   "cell_type": "code",
   "execution_count": 15,
   "metadata": {},
   "outputs": [
    {
     "data": {
      "image/png": "[encoded data removed]",
      "text/plain": [
       "<Figure size 432x288 with 1 Axes>"
      ]
     },
     "metadata": {
      "needs_background": "light"
     },
     "output_type": "display_data"
    }
   ],
   "source": [
    "data[['Product_Category_1', 'Purchase']].groupby('Product_Category_1').mean().plot.bar()\n",
    "sns.barplot('Product_Category_1', 'Purchase', data=data)\n",
    "plt.show()\n",
    "#when it comes to product category 1, 10 goes to highest purchase among all with least spent on product category 13 whereas 6,7,14-17 are under average -amount spnet"
   ]
  },
  {
   "cell_type": "code",
   "execution_count": 17,
   "metadata": {},
   "outputs": [
    {
     "data": {
      "image/png": "[encoded data removed]",
      "text/plain": [
       "<Figure size 432x288 with 1 Axes>"
      ]
     },
     "metadata": {
      "needs_background": "light"
     },
     "output_type": "display_data"
    }
   ],
   "source": [
    "data[['Product_Category_2', 'Purchase']].groupby('Product_Category_2').mean().plot.bar()\n",
    "sns.barplot('Product_Category_2', 'Purchase', data=data)\n",
    "plt.show()\n",
    "#purchase on product category 2 shows an overall good amount spent on all category 2, people spent on more on product category 2 ,where product category i.e bar 10 highest of all "
   ]
  },
  {
   "cell_type": "code",
   "execution_count": 19,
   "metadata": {},
   "outputs": [
    {
     "data": {
      "image/png": "[encoded data removed]",
      "text/plain": [
       "<Figure size 432x288 with 1 Axes>"
      ]
     },
     "metadata": {
      "needs_background": "light"
     },
     "output_type": "display_data"
    }
   ],
   "source": [
    "data[['Product_Category_3', 'Purchase']].groupby('Product_Category_3').mean().plot.bar()\n",
    "sns.barplot('Product_Category_3', 'Purchase', data=data)\n",
    "plt.show()\n",
    "#product category 3 also reflects a good purchase highest being the 14000 on 3.0,but if we compare all product category,purchase on product category2 is being the highest."
   ]
  },
  {
   "cell_type": "code",
   "execution_count": null,
   "metadata": {},
   "outputs": [],
   "source": []
  },
  {
   "cell_type": "code",
   "execution_count": 20,
   "metadata": {},
   "outputs": [
    {
     "data": {
      "image/png": "[encoded data removed]",
      "text/plain": [
       "<Figure size 432x288 with 1 Axes>"
      ]
     },
     "metadata": {
      "needs_background": "light"
     },
     "output_type": "display_data"
    }
   ],
   "source": [
    "data[['Stay_In_Current_City_Years', 'Purchase']].groupby('Stay_In_Current_City_Years').mean().plot.bar()\n",
    "sns.barplot('Stay_In_Current_City_Years', 'Purchase', data=data)\n",
    "plt.show()\n",
    "# people belong to current location and purchase contibutes more."
   ]
  },
  {
   "cell_type": "code",
   "execution_count": 21,
   "metadata": {},
   "outputs": [
    {
     "data": {
      "image/png": "[encoded data removed]",
      "text/plain": [
       "<Figure size 432x288 with 1 Axes>"
      ]
     },
     "metadata": {
      "needs_background": "light"
     },
     "output_type": "display_data"
    }
   ],
   "source": [
    "data[['City_Category', 'Purchase']].groupby('City_Category').mean().plot.bar()\n",
    "sns.barplot('City_Category', 'Purchase', data=data)\n",
    "plt.show()\n",
    "#City category has been divided into 3,where category A is the least and B & C almost equal"
   ]
  },
  {
   "cell_type": "code",
   "execution_count": 22,
   "metadata": {},
   "outputs": [
    {
     "data": {
      "image/png": "[encoded data removed]",
      "text/plain": [
       "<Figure size 432x288 with 1 Axes>"
      ]
     },
     "metadata": {
      "needs_background": "light"
     },
     "output_type": "display_data"
    }
   ],
   "source": [
    "data[['Gender','Purchase']].groupby('Gender').mean().plot.bar()\n",
    "sns.barplot('Gender', 'Purchase', data=data)\n",
    "plt.show()\n",
    "#male purchase more than female"
   ]
  },
  {
   "cell_type": "code",
   "execution_count": null,
   "metadata": {},
   "outputs": [],
   "source": []
  }
 ],
 "metadata": {
  "kernelspec": {
   "display_name": "Python 3",
   "language": "python",
   "name": "python3"
  },
  "language_info": {
   "codemirror_mode": {
    "name": "ipython",
    "version": 3
   },
   "file_extension": ".py",
   "mimetype": "text/x-python",
   "name": "python",
   "nbconvert_exporter": "python",
   "pygments_lexer": "ipython3",
   "version": "3.7.1"
  }
 },
 "nbformat": 4,
 "nbformat_minor": 2
}
